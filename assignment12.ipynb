{
  "nbformat": 4,
  "nbformat_minor": 0,
  "metadata": {
    "colab": {
      "name": "assignment12.ipynb",
      "provenance": [],
      "authorship_tag": "ABX9TyMtJaPIp7Z+rm8sIxKD93J1",
      "include_colab_link": true
    },
    "kernelspec": {
      "name": "python3",
      "display_name": "Python 3"
    },
    "language_info": {
      "name": "python"
    }
  },
  "cells": [
    {
      "cell_type": "markdown",
      "metadata": {
        "id": "view-in-github",
        "colab_type": "text"
      },
      "source": [
        "<a href=\"https://colab.research.google.com/github/mjcollins1047/Bellevue-DSC530/blob/master/assignment12.ipynb\" target=\"_parent\"><img src=\"https://colab.research.google.com/assets/colab-badge.svg\" alt=\"Open In Colab\"/></a>"
      ]
    },
    {
      "cell_type": "code",
      "metadata": {
        "id": "dA_REfPmxQQb"
      },
      "source": [
        "Mathew Collins\n",
        "DSC 650\n",
        "Week 12\n",
        "Assignment 12"
      ],
      "execution_count": null,
      "outputs": []
    },
    {
      "cell_type": "markdown",
      "metadata": {
        "id": "9SN6TNYUxRou"
      },
      "source": [
        ""
      ]
    },
    {
      "cell_type": "code",
      "metadata": {
        "id": "3wQoF-ROxZXa"
      },
      "source": [
        "# Import libraries\n",
        "from tensorflow import keras\n",
        "from keras import layers \n",
        "from keras import backend as K \n",
        "from keras.models import Model \n",
        "import numpy as np "
      ],
      "execution_count": 4,
      "outputs": []
    },
    {
      "cell_type": "code",
      "metadata": {
        "id": "QJJqMfTYx06L"
      },
      "source": [
        "# Create VAE Encoder Network\n",
        "img_shape = (28, 28, 1)\n",
        "batch_size = 16\n",
        "latent_dim = 2\n",
        "input_img = keras.Input(shape=img_shape)\n",
        "\n",
        "x = layers.Conv2D(32, 3, padding='same', activation='relu')(input_img)\n",
        "x = layers.Conv2D(64, 3, padding='same', activation='relu', strides=(2, 2))(x)\n",
        "x = layers.Conv2D(64, 3, padding='same', activation='relu')(x)\n",
        "x = layers.Conv2D(64, 3, padding='same', activation='relu')(x)\n",
        "\n",
        "shape_before_flattening = K.int_shape(x)\n",
        "x = layers.Flatten()(x) \n",
        "x = layers.Dense(32, activation='relu')(x)\n",
        "\n",
        "z_mean = layers.Dense(latent_dim)(x)\n",
        "z_log_var = layers.Dense(latent_dim)(x)"
      ],
      "execution_count": 10,
      "outputs": []
    },
    {
      "cell_type": "code",
      "metadata": {
        "id": "pyb0t5uO23Ul"
      },
      "source": [
        "# Create latent-space sampling function (8.24)\n",
        "def sampling(args):\n",
        "  z_mean, z_log_var = args\n",
        "  epsilon = K.random_normal(shape=(K.shape(z_mean)[0], latent_dim), mean=0., stddev=1.)\n",
        "\n",
        "  return z_mean + K.exp(z_log_var) * epsilon \n",
        "  \n",
        "z = layers.Lambda(sampling)([z_mean, z_log_var])"
      ],
      "execution_count": 22,
      "outputs": []
    },
    {
      "cell_type": "code",
      "metadata": {
        "id": "A0GB-G-G0GFq"
      },
      "source": [
        "# Create VAE decoder network, mapping latent space points to images\n",
        "decoder_input = layers.Input(K.int_shape(z)[1:])\n",
        "\n",
        "x = layers.Dense(np.prod(shape_before_flattening[1:]), activation='relu')(decoder_input)\n",
        "x = layers.Reshape(shape_before_flattening[1:])(x)\n",
        "x = layers.Conv2DTranspose(32, 3, padding = 'same', activation='relu', strides = (2,2))(x)\n",
        "x = layers.Conv2D(1, 3, padding = 'same', activation = 'sigmoid')(x)\n",
        "\n",
        "decoder = Model(decoder_input, x) \n",
        "z_decoded = decoder(z) "
      ],
      "execution_count": 24,
      "outputs": []
    }
  ]
}